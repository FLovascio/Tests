{
 "cells": [
  {
   "cell_type": "markdown",
   "metadata": {},
   "source": [
    "# Shocks in the locally isothermal terminal velocity approximation\n"
   ]
  },
  {
   "cell_type": "code",
   "execution_count": 168,
   "metadata": {
    "collapsed": true
   },
   "outputs": [],
   "source": [
    "#Pkg.add(\"\")\n",
    "#Pkg.add(\"PyPlot\")\n",
    "using Plots;\n",
    "#pgfplots();\n",
    "pyplot();\n",
    "#pyplot();\n",
    "\n",
    "using LaTeXStrings\n",
    "#options(jupyter.plot_mimetypes = c(\"text/plain\", \"image/png\" ));\n",
    "#=\n",
    "upscale = 1.0 #8x upscaling in resolution\n",
    "fntsm = Plots.font(\"sans-serif\", 10.0)\n",
    "fntlg = Plots.font(\"sans-serif\", 12.0)\n",
    "default(titlefont=fntlg, guidefont=fntlg, tickfont=fntsm, legendfont=fntsm)\n",
    "default(size=(800*upscale,600*upscale)) #Plot canvas size\n",
    "default(dpi=300) #Only for PyPlot - presently broken\n",
    "=#"
   ]
  },
  {
   "cell_type": "markdown",
   "metadata": {},
   "source": [
    "### Define preshock parameters"
   ]
  },
  {
   "cell_type": "code",
   "execution_count": 178,
   "metadata": {
    "collapsed": true
   },
   "outputs": [],
   "source": [
    "const global p₀=39.0;\n",
    "const global u₀=0.8;\n",
    "const global c²=4.0;\n",
    "const global f₀=2.5; #cs^2*(1-f_d),\n",
    "const global ρ₀=p₀/f₀;\n",
    "const global D=ρ₀*u₀;\n",
    "const global B=ρ₀*u₀^2+p₀;\n",
    "global ts=0.1;"
   ]
  },
  {
   "cell_type": "markdown",
   "metadata": {},
   "source": [
    "### Some useful functions "
   ]
  },
  {
   "cell_type": "code",
   "execution_count": 179,
   "metadata": {},
   "outputs": [
    {
     "data": {
      "text/plain": [
       "integrate_simpson (generic function with 1 method)"
      ]
     },
     "execution_count": 179,
     "metadata": {},
     "output_type": "execute_result"
    }
   ],
   "source": [
    "Rho(D,u) = D/u;\n",
    "U(B,D,P) = (B-P)/D\n",
    "function FD(P,B,D) \n",
    "    fd=deepcopy(P)\n",
    "    uu=deepcopy(P)\n",
    "    ρρ=deepcopy(P)\n",
    "    i=1\n",
    "    for (i,p) ∈ enumerate(P)\n",
    "        u=U(B,D,p)\n",
    "        ρ=Rho(D,u)\n",
    "        fd[i]=1-(p/(c²*ρ))\n",
    "        uu[i]=u\n",
    "        ρρ[i]=ρ\n",
    "    end\n",
    "    return (fd,uu,ρρ)\n",
    "end\n",
    "\n",
    "function ρd(fd::Array{Float64,1}, ρ::Array{Float64,1})\n",
    "    ρ_d=broadcast(*,ρ,fd)\n",
    "    return ρ_d\n",
    "end\n",
    "\n",
    "integrate_trap(f::Array{Float64,1},h::Float64) = 0.5*h*(f[1]+2.0*sum(f[2:end-1])+f[end])\n",
    "integrate_simpson(f::Array{Float64,1},h::Float64) = 0.3333333333*h*(f[1]+4.0*sum(f[3:2:end-1])+2.0*sum(f[2:2:end-1])+f[end]) "
   ]
  },
  {
   "cell_type": "markdown",
   "metadata": {},
   "source": [
    "### Defining Differential EQN."
   ]
  },
  {
   "cell_type": "code",
   "execution_count": 180,
   "metadata": {
    "collapsed": true
   },
   "outputs": [],
   "source": [
    "∂ₓp(p)=(((p*(B-p))-(p₀*(B-p₀)))/D)/(ts*(c²-(p*((B-p)/(D^2)))));"
   ]
  },
  {
   "cell_type": "markdown",
   "metadata": {},
   "source": [
    "### Runge-Kutta 4 integrator"
   ]
  },
  {
   "cell_type": "code",
   "execution_count": 181,
   "metadata": {},
   "outputs": [
    {
     "data": {
      "text/plain": [
       "Integrate (generic function with 1 method)"
      ]
     },
     "execution_count": 181,
     "metadata": {},
     "output_type": "execute_result"
    }
   ],
   "source": [
    "K₁(p,h)=h*∂ₓp(p);\n",
    "K₂(p,h)=h*∂ₓp(p+K₁(p,h)/2);\n",
    "K₃(p,h)=h*∂ₓp(p+K₂(p,h)/2);\n",
    "K₄(p,h)=h*∂ₓp(p+K₃(p,h));\n",
    "p₊₁(p,h)=0.166666666*(K₄(p,h)+2.0K₃(p,h)+2.0K₂(p,h)+K₁(p,h)) +p;\n",
    "\n",
    "function Integrate(x::Array{Float64},pInit)\n",
    "    p=pInit;\n",
    "    P₁=pInit;\n",
    "    for i=1:49999\n",
    "        p=p₊₁(p,h);\n",
    "        P₁=vcat(P₁,p);\n",
    "    end\n",
    "    P₋=deepcopy(P₁)\n",
    "    for i=1:length(P₁)\n",
    "        P₋[i]=P₁[(length(P₁)-i+1)]\n",
    "    end\n",
    "    P₋=map(x->2.0pInit-x,P₋);\n",
    "    Pn=vcat(P₋,P₁);\n",
    "    return Pn\n",
    "end"
   ]
  },
  {
   "cell_type": "markdown",
   "metadata": {},
   "source": [
    "### Calculating P at shock centre\n",
    "This is done by setting the right and left states as they are free parameters."
   ]
  },
  {
   "cell_type": "code",
   "execution_count": 182,
   "metadata": {
    "collapsed": true
   },
   "outputs": [],
   "source": [
    "\n",
    "#pInit=0.25*(B-sqrt(1.0+4.0*D^2*f₀)-2.0p₀);\n",
    "pᵣ=10.0;\n",
    "pInit=0.5*(p₀+pᵣ);"
   ]
  },
  {
   "cell_type": "markdown",
   "metadata": {},
   "source": [
    "### running the RK solver\n",
    "Run for 10000 steps to integrate hals the shock, the solution is then mirrored to produce the other side of the pressure profile."
   ]
  },
  {
   "cell_type": "code",
   "execution_count": 183,
   "metadata": {
    "collapsed": true
   },
   "outputs": [],
   "source": [
    "h=0.00005;\n",
    "x=map(x->h*x,collect(-50000:49999));\n",
    "Pn=Integrate(x,pInit);\n"
   ]
  },
  {
   "cell_type": "code",
   "execution_count": 184,
   "metadata": {
    "scrolled": false
   },
   "outputs": [
    {
     "data": {
      "image/png": "[encoded data removed]",
      "text/plain": [
       "PyPlot.Figure(PyObject <Figure size 600x400 with 1 Axes>)"
      ]
     },
     "metadata": {},
     "output_type": "display_data"
    }
   ],
   "source": [
    "plot(x,Pn,xlabel=L\"x\",ylabel=L\"P(x)\",tickfont=font(14),color=:darkblue,guidefont=font(18), legend=false, linewidth=1.5)\n",
    "savefig(\"pressureShock.pdf\");"
   ]
  },
  {
   "cell_type": "code",
   "execution_count": 185,
   "metadata": {
    "collapsed": true,
    "slideshow": {
     "slide_type": "fragment"
    }
   },
   "outputs": [],
   "source": [
    "Fd=FD(Pn,B,D);"
   ]
  },
  {
   "cell_type": "code",
   "execution_count": 186,
   "metadata": {},
   "outputs": [
    {
     "data": {
      "image/png": "[encoded data removed]"
     },
     "execution_count": 186,
     "metadata": {},
     "output_type": "execute_result"
    }
   ],
   "source": [
    "plot(x,Fd[1],xlabel=L\"x\",ylabel=L\"u_x\",tickfont=font(14),color=:darkblue,guidefont=font(18), legend=false, linewidth=1.5)\n",
    "#plot!(x,Fd[2],xlabel=\"x\",ylabel=\"Y\", label=\"v\")\n",
    "#plot!(x,Fd[3],xlabel=\"x\",ylabel=\"Y\", label=\"rho\")"
   ]
  },
  {
   "cell_type": "markdown",
   "metadata": {
    "collapsed": true
   },
   "source": [
    "# Two fluid stationary shocks\n",
    "calculating the two fluid shock profile"
   ]
  },
  {
   "cell_type": "markdown",
   "metadata": {},
   "source": [
    "Integration is done using a simple solver for systems of ODEs. The solver takes an IVP and integrates it using an explicit RK method defined by the user using a Butcher tableau."
   ]
  },
  {
   "cell_type": "code",
   "execution_count": 187,
   "metadata": {
    "collapsed": true
   },
   "outputs": [],
   "source": [
    "push!(LOAD_PATH,\".\")\n",
    "using RK"
   ]
  },
  {
   "cell_type": "markdown",
   "metadata": {},
   "source": [
    "### Defining the ODE"
   ]
  },
  {
   "cell_type": "code",
   "execution_count": 262,
   "metadata": {},
   "outputs": [
    {
     "name": "stdout",
     "output_type": "stream",
     "text": [
      "rho=7.593747711904829\n"
     ]
    },
    {
     "data": {
      "text/plain": [
       "ivpSystem(Function[yDash], [6.09851])"
      ]
     },
     "execution_count": 262,
     "metadata": {},
     "output_type": "execute_result"
    }
   ],
   "source": [
    "\n",
    "#Dust jump conditions\n",
    "rho_d0=Fd[1][1]*Fd[3][1];\n",
    "println(\"rho=\",rho_g0+rho_d0);\n",
    "ud0=Fd[2][1];\n",
    "Bd=rho_d0*ud0;\n",
    "\n",
    "#gas only jump conditions\n",
    "rho_gR=(1-Fd[1][end])*Fd[3][end];\n",
    "u_gR=Fd[2][end];\n",
    "rho_gL=(1-Fd[1][1])*Fd[3][1];\n",
    "ugL=ud0;\n",
    "ug0=c²/ugL;\n",
    "Bg=rho_gL*ugL;\n",
    "rho_g0=rho_gL*ugL^2/c²;\n",
    "\n",
    "#defining the ODE\n",
    "d=rho_g0*(ug0^2+c²)+rho_d0*(ud0^2);\n",
    "yDash(x,y)=-(Bd/ts)*((y[1]^2)*(Bd*Bg-d*y[1]+Bg^2+c²*y[1]^2))/((d*y[1]-Bg^2-c²*(y[1]^2)+Bd^2)*(y[1]^2*c²-Bg^2));\n",
    "problem=[yDash];\n",
    "trange=0.00005:0.00005:2.5;\n",
    "init=[rho_g0];\n",
    "ivp=ivpSystem(problem,init)"
   ]
  },
  {
   "cell_type": "code",
   "execution_count": 263,
   "metadata": {},
   "outputs": [
    {
     "data": {
      "text/plain": [
       "Dict{String,Array{Float64,N} where N} with 2 entries:\n",
       "  \"t\" => [5.0e-5, 0.0001, 0.00015, 0.0002, 0.00025, 0.0003, 0.00035, 0.0004, 0.…\n",
       "  \"y\" => [6.09851 6.09898 … 9.746 9.746]"
      ]
     },
     "execution_count": 263,
     "metadata": {},
     "output_type": "execute_result"
    }
   ],
   "source": [
    "Sol=integrateRK(ivp,trange,rk4)"
   ]
  },
  {
   "cell_type": "code",
   "execution_count": 264,
   "metadata": {
    "collapsed": true
   },
   "outputs": [],
   "source": [
    "ynew=zeros(length(Sol[\"y\"][1,:]));\n",
    "ynew=ynew.+rho_gL;\n",
    "ynew=vcat(ynew,Sol[\"y\"][1,:]);"
   ]
  },
  {
   "cell_type": "code",
   "execution_count": 265,
   "metadata": {
    "collapsed": true
   },
   "outputs": [],
   "source": [
    "ug=Bg./ynew;\n",
    "ud=(d.- (ynew.*(ug.^2 .+c²)))./Bd#(d.-ug.*Bg.-ynew.*c²)./Bd;\n",
    "rhod=Bd./ud;\n",
    "u=(rhod.*ud)./(rhod.+ynew) .+ (ynew.*ug)./(rhod.+ynew);\n",
    "rho=rhod+ynew;\n",
    "fdArray=rhod./rho;"
   ]
  },
  {
   "cell_type": "code",
   "execution_count": 269,
   "metadata": {},
   "outputs": [
    {
     "data": {
      "image/png": "[encoded data removed]"
     },
     "execution_count": 269,
     "metadata": {},
     "output_type": "execute_result"
    }
   ],
   "source": [
    "plot(x,Fd[2],xlabel=L\"x\",ylabel=L\"$u_x$\",tickfont=font(14),color=:darkblue,guidefont=font(18),legendfont=font(14), linewidth=2,label=\"LITVA\")\n",
    "plot!(x,u,xlabel=L\"x\",ylabel=L\"$u_x$\",tickfont=font(14),color=:darkorange,guidefont=font(18),legendfont=font(14), linewidth=2,linestyle=:dash, label=\"Two Fluid\")"
   ]
  },
  {
   "cell_type": "code",
   "execution_count": 203,
   "metadata": {
    "collapsed": true
   },
   "outputs": [],
   "source": [
    "savefig(\"fdComp.pdf\");"
   ]
  },
  {
   "cell_type": "code",
   "execution_count": 194,
   "metadata": {},
   "outputs": [
    {
     "data": {
      "text/plain": [
       "3.1237179487175815"
      ]
     },
     "execution_count": 194,
     "metadata": {},
     "output_type": "execute_result"
    }
   ],
   "source": [
    "ug[1]"
   ]
  }
 ],
 "metadata": {
  "kernelspec": {
   "display_name": "Julia 1.0.1",
   "language": "julia",
   "name": "julia-1.0"
  },
  "language_info": {
   "file_extension": ".jl",
   "mimetype": "application/julia",
   "name": "julia",
   "version": "1.0.1"
  }
 },
 "nbformat": 4,
 "nbformat_minor": 2
}
